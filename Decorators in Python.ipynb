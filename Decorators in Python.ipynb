{
 "cells": [
  {
   "cell_type": "markdown",
   "metadata": {},
   "source": [
    "##### A decorator is a function whose primary purpose is to wrap another function or class with purpose of enhancing the behaviour of object being wrapped"
   ]
  },
  {
   "cell_type": "code",
   "execution_count": 3,
   "metadata": {},
   "outputs": [
    {
     "name": "stdout",
     "output_type": "stream",
     "text": [
      "Wrapper Function\n",
      "display function\n"
     ]
    }
   ],
   "source": [
    "def decorator_function(original_function):\n",
    "    def wrapper_function():\n",
    "        print(\"Wrapper Function\")\n",
    "        return original_function()\n",
    "    return wrapper_function # writing function name in return without () means ; the return st. is waiting for the \n",
    "                            # function to be executed\n",
    "\n",
    "def display():\n",
    "    print(\"display function\")\n",
    "    \n",
    "decorated_display = decorator_function(display)\n",
    "decorated_display()\n"
   ]
  },
  {
   "cell_type": "code",
   "execution_count": 5,
   "metadata": {},
   "outputs": [
    {
     "name": "stdout",
     "output_type": "stream",
     "text": [
      "Wrapper Function\n",
      "display function\n"
     ]
    }
   ],
   "source": [
    "# the above is same as :\n",
    "\n",
    "@decorator_function\n",
    "def display():\n",
    "    print(\"display function\")\n",
    "\n",
    "display() # calling display function"
   ]
  },
  {
   "cell_type": "code",
   "execution_count": null,
   "metadata": {},
   "outputs": [],
   "source": []
  }
 ],
 "metadata": {
  "kernelspec": {
   "display_name": "Python 3",
   "language": "python",
   "name": "python3"
  },
  "language_info": {
   "codemirror_mode": {
    "name": "ipython",
    "version": 3
   },
   "file_extension": ".py",
   "mimetype": "text/x-python",
   "name": "python",
   "nbconvert_exporter": "python",
   "pygments_lexer": "ipython3",
   "version": "3.7.3"
  }
 },
 "nbformat": 4,
 "nbformat_minor": 2
}
