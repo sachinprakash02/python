{
 "cells": [
  {
   "cell_type": "code",
   "execution_count": 23,
   "metadata": {},
   "outputs": [],
   "source": [
    "from threading import *"
   ]
  },
  {
   "cell_type": "code",
   "execution_count": 24,
   "metadata": {},
   "outputs": [],
   "source": [
    "#Multithreading : is process of executing several tasks simultaneously\n",
    "# For every thread is an independent job\n",
    "# The order of execution of the thread is not defined , it is random"
   ]
  },
  {
   "cell_type": "code",
   "execution_count": 25,
   "metadata": {},
   "outputs": [
    {
     "name": "stdout",
     "output_type": "stream",
     "text": [
      "Child Threadmain thread\n",
      "Child Thread\n",
      "Child Thread\n",
      "Child Thread\n",
      "Child Thread\n",
      "Child Thread\n",
      "Child Thread\n",
      "Child Thread\n",
      "Child Thread\n",
      "Child Thread\n",
      "\n",
      "main thread\n",
      "main thread\n",
      "main thread\n",
      "main thread\n",
      "main thread\n",
      "main thread\n",
      "main thread\n",
      "main thread\n",
      "main thread\n"
     ]
    }
   ],
   "source": [
    "#Creating a thread by extending the Thread Class\n",
    "\n",
    "class MyThread(Thread):\n",
    "    def run(self):\n",
    "        for i in range(10):\n",
    "            print(\"Child Thread\")\n",
    "            \n",
    "\n",
    "\n",
    "t = MyThread()\n",
    "\n",
    "t.start()\n",
    "\n",
    "\n",
    "for i in range(10):\n",
    "    print(\"main thread\")\n",
    "# output is random as execution of main thread and the child thread is random by the PVM "
   ]
  },
  {
   "cell_type": "code",
   "execution_count": 26,
   "metadata": {},
   "outputs": [],
   "source": [
    "import time"
   ]
  },
  {
   "cell_type": "code",
   "execution_count": 27,
   "metadata": {},
   "outputs": [
    {
     "name": "stdout",
     "output_type": "stream",
     "text": [
      "Double Value: 2\n",
      "Square Value: 1\n",
      "Double Value: 4\n",
      "Square Value: 4\n",
      "Double Value: 6\n",
      "Square Value: 9\n",
      "Double Value: 8\n",
      "Square Value: 16\n",
      "Time Taken: 4.043753623962402\n"
     ]
    }
   ],
   "source": [
    "def doubles(numbers):\n",
    "    for n in numbers:\n",
    "        time.sleep(1)\n",
    "        print(\"Double Value:\",2*n)\n",
    "\n",
    "def squares(numbers):\n",
    "    for n in numbers:\n",
    "        time.sleep(1)\n",
    "        print(\"Square Value:\",n*n)\n",
    "        \n",
    "numbers = [1,2,3,4]\n",
    "begintime = time.time()\n",
    "\n",
    "#creating threads without extending the child class\n",
    "\n",
    "t1 = Thread(target=doubles,args=(numbers,))\n",
    "t2 = Thread(target=squares,args=(numbers,))\n",
    "\n",
    "t1.start()\n",
    "t2.start()\n",
    "\n",
    "t1.join() # pauses main thread to execute after completion on thread 1\n",
    "t2.join()\n",
    "\n",
    "endtime = time.time() # this is executed by the main thread\n",
    "\n",
    "print(\"Time Taken:\",endtime-begintime)"
   ]
  },
  {
   "cell_type": "code",
   "execution_count": null,
   "metadata": {},
   "outputs": [],
   "source": []
  }
 ],
 "metadata": {
  "kernelspec": {
   "display_name": "Python 3",
   "language": "python",
   "name": "python3"
  },
  "language_info": {
   "codemirror_mode": {
    "name": "ipython",
    "version": 3
   },
   "file_extension": ".py",
   "mimetype": "text/x-python",
   "name": "python",
   "nbconvert_exporter": "python",
   "pygments_lexer": "ipython3",
   "version": "3.7.3"
  }
 },
 "nbformat": 4,
 "nbformat_minor": 2
}
